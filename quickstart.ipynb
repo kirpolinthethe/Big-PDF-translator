{
 "cells": [
  {
   "cell_type": "code",
   "execution_count": 1,
   "metadata": {},
   "outputs": [],
   "source": [
    "import pathlib\n",
    "import textwrap\n",
    "import os\n",
    "\n",
    "import google.generativeai as genai\n",
    "\n",
    "from IPython.display import display\n",
    "from IPython.display import Markdown\n",
    "\n",
    "\n",
    "def to_markdown(text):\n",
    "  text = text.replace('•', '  *')\n",
    "  return Markdown(textwrap.indent(text, '> ', predicate=lambda _: True))"
   ]
  },
  {
   "cell_type": "code",
   "execution_count": 4,
   "metadata": {},
   "outputs": [],
   "source": [
    "GOOGLE_API_KEY = os.getenv('GOOGLE_API_KEY')\n",
    "\n",
    "genai.configure(api_key=GOOGLE_API_KEY)"
   ]
  },
  {
   "cell_type": "code",
   "execution_count": 5,
   "metadata": {},
   "outputs": [
    {
     "name": "stdout",
     "output_type": "stream",
     "text": [
      "models/gemini-1.0-pro\n",
      "models/gemini-1.0-pro-001\n",
      "models/gemini-1.0-pro-latest\n",
      "models/gemini-1.0-pro-vision-latest\n",
      "models/gemini-pro\n",
      "models/gemini-pro-vision\n"
     ]
    }
   ],
   "source": [
    "for m in genai.list_models():\n",
    "  if 'generateContent' in m.supported_generation_methods:\n",
    "    print(m.name)"
   ]
  },
  {
   "cell_type": "code",
   "execution_count": 6,
   "metadata": {},
   "outputs": [],
   "source": [
    "model = genai.GenerativeModel('gemini-1.0-pro')"
   ]
  },
  {
   "cell_type": "code",
   "execution_count": 9,
   "metadata": {},
   "outputs": [],
   "source": [
    "response = model.generate_content(contents=\"What can Gemini do?\")"
   ]
  },
  {
   "cell_type": "code",
   "execution_count": 14,
   "metadata": {},
   "outputs": [
    {
     "data": {
      "text/markdown": [
       "> * **Communication:** Geminis are known for their communication skills. They are able to express themselves clearly and persuasively, and they are also good listeners. They are often sought out for their advice and counsel.\n",
       "> * **Adaptability:** Geminis are very adaptable. They are able to quickly change their minds and plans if necessary. This makes them good at dealing with unexpected challenges and changes.\n",
       "> * **Curiosity:** Geminis are very curious. They are always eager to learn new things and explore new places. This makes them interesting and engaging conversationalists.\n",
       "> * **Intelligence:** Geminis are very intelligent. They are quick learners and they have a wide range of interests. They are often successful in academic and professional pursuits.\n",
       "> * **Creativity:** Geminis are very creative. They are able to come up with new ideas and solutions to problems. This makes them good at problem-solving and innovation.\n",
       "> * **Social skills:** Geminis are very social. They enjoy interacting with others and they are often the life of the party. They are also good at networking and building relationships.\n",
       "> * **Humor:** Geminis have a great sense of humor. They are able to see the funny side of life and they are often able to make others laugh. This makes them fun to be around."
      ],
      "text/plain": [
       "<IPython.core.display.Markdown object>"
      ]
     },
     "execution_count": 14,
     "metadata": {},
     "output_type": "execute_result"
    }
   ],
   "source": [
    "to_markdown(response.text)"
   ]
  },
  {
   "cell_type": "code",
   "execution_count": 55,
   "metadata": {},
   "outputs": [],
   "source": [
    "response = model.generate_content(\"What can Gemini do?\", stream=True)"
   ]
  },
  {
   "cell_type": "code",
   "execution_count": 56,
   "metadata": {},
   "outputs": [
    {
     "name": "stdout",
     "output_type": "stream",
     "text": [
      "1. **Communication and Information Exchange**:\n",
      "\n",
      "   - Excellent verbal and written communication\n",
      " skills.\n",
      "   - Ability to gather, process, and disseminate information effectively.\n",
      "   - Skilled at networking and establishing connections with others.\n",
      "   - Ade\n",
      "pt at public speaking and presenting information to audiences.\n",
      "   - Proficient in using various communication channels and technologies.\n",
      "\n",
      "2. **Adaptability and Flexibility**:\n",
      "\n",
      "   - Ability to quickly adapt to changing circumstances and environments.\n",
      "   - Open to new ideas and willing to embrace change.\n",
      "   - Comfortable with multitasking\n",
      " and juggling multiple projects simultaneously.\n",
      "   - Capable of thinking on their feet and finding creative solutions to problems.\n",
      "\n",
      "3. **Intellectual Curiosity and Learning**:\n",
      "\n",
      "   - Possess a strong desire to learn and explore new subjects.\n",
      "   - Always seeking knowledge and information to expand their understanding.\n",
      "   - Adaptable to diverse topics and fields of interest.\n",
      "   - Able to quickly grasp new concepts and ideas.\n",
      "\n",
      "4. **Creativity and Problem-Solving**:\n",
      "\n",
      "   - Highly creative and imaginative, with a knack for generating new ideas.\n",
      "   - Skilled at finding innovative solutions to problems and challenges.\n",
      "   - Able\n",
      " to think laterally and approach situations from different perspectives.\n",
      "   - Capable of connecting seemingly unrelated concepts to create unique solutions.\n",
      "\n",
      "5. **Versatility and Multifacetedness**:\n",
      "\n",
      "   - Possess a wide range of interests and talents.\n",
      "   - Able to excel in various roles and fields of endeavor.\n",
      "   - Adaptable to different environments and situations.\n",
      "   - Capable of wearing multiple hats and taking on diverse responsibilities.\n",
      "\n",
      "6. **Social and Networking Abilities**:\n",
      "\n",
      "   - Highly social and outgoing, with a natural ability to connect with others.\n",
      "   - Skilled at building relationships and establishing rapport.\n",
      "   - Adept at reading social cues and understanding the needs and motivations of others.\n",
      "   - Comfortable interacting with people from diverse backgrounds and cultures.\n",
      "\n",
      "7. **Enthusiasm and Positivity**:\n",
      "\n",
      "   - Exude enthusiasm and optimism, even in challenging situations.\n",
      "   - Able to motivate and inspire others with their energy and positive outlook.\n",
      "   - Maintain a youthful and curious spirit, always seeking new experiences.\n",
      "   - Resilient and able to bounce back from setbacks and disappointments.\n"
     ]
    }
   ],
   "source": [
    "for _ in response:\n",
    "    print(_.text)"
   ]
  },
  {
   "cell_type": "code",
   "execution_count": null,
   "metadata": {},
   "outputs": [],
   "source": [
    "import PIL.Image\n",
    "\n",
    "img = PIL.Image.open('./Katherine.jpg')\n",
    "img"
   ]
  },
  {
   "cell_type": "code",
   "execution_count": 59,
   "metadata": {},
   "outputs": [],
   "source": [
    "model_img = genai.GenerativeModel('gemini-1.0-pro-vision-latest')"
   ]
  },
  {
   "cell_type": "code",
   "execution_count": 60,
   "metadata": {},
   "outputs": [
    {
     "data": {
      "text/markdown": [
       ">  This is Aigis from the video game Persona 3."
      ],
      "text/plain": [
       "<IPython.core.display.Markdown object>"
      ]
     },
     "execution_count": 60,
     "metadata": {},
     "output_type": "execute_result"
    }
   ],
   "source": [
    "response = model_img.generate_content(img)\n",
    "\n",
    "to_markdown(response.text)"
   ]
  },
  {
   "cell_type": "code",
   "execution_count": 61,
   "metadata": {},
   "outputs": [
    {
     "data": {
      "text/markdown": [
       ">  The story follows Vincent Brooks, a 26-year-old man who is stuck in a rut. He has a good job, a nice apartment, and a beautiful girlfriend named Katherine. However, he is not happy with his life. He feels like he is going through the motions and that there is nothing more to life than what he has.\n",
       "> \n",
       "> One night, Vincent meets a mysterious woman named Catherine. Catherine is everything that Katherine is not. She is wild, unpredictable, and dangerous. Vincent is immediately drawn to her, and he begins to spend more and more time with her.\n",
       "> \n",
       "> As Vincent's relationship with Catherine grows, his relationship with Katherine begins to suffer. Katherine becomes jealous and suspicious of Catherine, and she eventually confronts Vincent about her. Vincent is forced to choose between the two women, and he makes a decision that will change his life forever.\n",
       "> \n",
       "> The game is a psychological thriller that explores the themes of love, loss, and betrayal. It is a story about the choices we make in life and the consequences of those choices."
      ],
      "text/plain": [
       "<IPython.core.display.Markdown object>"
      ]
     },
     "execution_count": 61,
     "metadata": {},
     "output_type": "execute_result"
    }
   ],
   "source": [
    "response = model_img.generate_content([\"This is a illustration of Katherine from the video game named Katherine, made by ATLUS. Describe the plot of the game.\",img])\n",
    "\n",
    "to_markdown(response.text)"
   ]
  },
  {
   "cell_type": "code",
   "execution_count": 62,
   "metadata": {},
   "outputs": [],
   "source": [
    "model_chat = genai.GenerativeModel('gemini-pro')\n",
    "chat = model_chat.start_chat()"
   ]
  },
  {
   "cell_type": "code",
   "execution_count": null,
   "metadata": {},
   "outputs": [],
   "source": []
  }
 ],
 "metadata": {
  "kernelspec": {
   "display_name": "Python 3",
   "language": "python",
   "name": "python3"
  },
  "language_info": {
   "codemirror_mode": {
    "name": "ipython",
    "version": 3
   },
   "file_extension": ".py",
   "mimetype": "text/x-python",
   "name": "python",
   "nbconvert_exporter": "python",
   "pygments_lexer": "ipython3",
   "version": "3.11.3"
  }
 },
 "nbformat": 4,
 "nbformat_minor": 2
}
